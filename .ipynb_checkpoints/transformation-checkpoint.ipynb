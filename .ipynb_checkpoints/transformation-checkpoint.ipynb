{
 "cells": [
  {
   "cell_type": "code",
   "execution_count": 1,
   "metadata": {},
   "outputs": [],
   "source": [
    "import pandas as pd\n",
    "import psycopg2\n",
    "import os\n",
    "from dotenv import load_dotenv\n",
    "import sys\n",
    "from datetime import date\n"
   ]
  },
  {
   "cell_type": "code",
   "execution_count": 2,
   "metadata": {},
   "outputs": [],
   "source": [
    "load_dotenv()\n",
    "\n",
    "# Define constant\n",
    "URL = os.environ.get(\"URL\")\n",
    "USER_NAME = os.environ.get(\"USER_NAME\")\n",
    "PASSWORD = os.environ.get(\"PASSWORD\")\n",
    "HOST = os.environ.get(\"HOST\")\n",
    "PORT = 5432\n",
    "DATABASE = os.environ.get(\"DATABASE\") \n",
    "\n",
    "MINIO_ACCESS_KEY = os.environ.get(\"MINIO_ACCESS_KEY\")\n",
    "MINIO_SECRET_KEY = os.environ.get(\"MINIO_SECRET_KEY\")"
   ]
  },
  {
   "cell_type": "code",
   "execution_count": 3,
   "metadata": {},
   "outputs": [
    {
     "data": {
      "text/plain": [
       "'C2zAnvl2FN7J4FeZ'"
      ]
     },
     "execution_count": 3,
     "metadata": {},
     "output_type": "execute_result"
    }
   ],
   "source": [
    "MINIO_ACCESS_KEY"
   ]
  },
  {
   "cell_type": "code",
   "execution_count": 6,
   "metadata": {},
   "outputs": [
    {
     "data": {
      "text/html": [
       "<div>\n",
       "<style scoped>\n",
       "    .dataframe tbody tr th:only-of-type {\n",
       "        vertical-align: middle;\n",
       "    }\n",
       "\n",
       "    .dataframe tbody tr th {\n",
       "        vertical-align: top;\n",
       "    }\n",
       "\n",
       "    .dataframe thead th {\n",
       "        text-align: right;\n",
       "    }\n",
       "</style>\n",
       "<table border=\"1\" class=\"dataframe\">\n",
       "  <thead>\n",
       "    <tr style=\"text-align: right;\">\n",
       "      <th></th>\n",
       "      <th>item_id</th>\n",
       "      <th>product_id</th>\n",
       "      <th>quantity</th>\n",
       "    </tr>\n",
       "  </thead>\n",
       "  <tbody>\n",
       "    <tr>\n",
       "      <th>0</th>\n",
       "      <td>88e5c6e8-eb13-4e3f-94c8-7f05735ab601</td>\n",
       "      <td>f47ac10b-58cc-4372-a567-0e02b2c3d479</td>\n",
       "      <td>2</td>\n",
       "    </tr>\n",
       "    <tr>\n",
       "      <th>1</th>\n",
       "      <td>e89d3da1-4e76-4d71-896b-2d2c727c2894</td>\n",
       "      <td>0652b421-9a07-4d1b-a1f2-7d9e3f8d85a5</td>\n",
       "      <td>1</td>\n",
       "    </tr>\n",
       "    <tr>\n",
       "      <th>2</th>\n",
       "      <td>f59ed289-27eb-48a5-ba0d-5ae1a8bb2cd5</td>\n",
       "      <td>fe7a1a85-0b16-4f3e-89e8-cb6d02f285fd</td>\n",
       "      <td>3</td>\n",
       "    </tr>\n",
       "    <tr>\n",
       "      <th>3</th>\n",
       "      <td>4ad2c632-2141-414f-a24b-d524a9d2967d</td>\n",
       "      <td>2fc9fc3a-7b14-4e02-bfac-7e2eef96e237</td>\n",
       "      <td>1</td>\n",
       "    </tr>\n",
       "    <tr>\n",
       "      <th>4</th>\n",
       "      <td>fd7c9f29-c04e-438a-9512-9a799bc0d7e1</td>\n",
       "      <td>4b12b8f1-9274-499a-91a2-2e4a6371a8ad</td>\n",
       "      <td>2</td>\n",
       "    </tr>\n",
       "  </tbody>\n",
       "</table>\n",
       "</div>"
      ],
      "text/plain": [
       "                                item_id                            product_id  \\\n",
       "0  88e5c6e8-eb13-4e3f-94c8-7f05735ab601  f47ac10b-58cc-4372-a567-0e02b2c3d479   \n",
       "1  e89d3da1-4e76-4d71-896b-2d2c727c2894  0652b421-9a07-4d1b-a1f2-7d9e3f8d85a5   \n",
       "2  f59ed289-27eb-48a5-ba0d-5ae1a8bb2cd5  fe7a1a85-0b16-4f3e-89e8-cb6d02f285fd   \n",
       "3  4ad2c632-2141-414f-a24b-d524a9d2967d  2fc9fc3a-7b14-4e02-bfac-7e2eef96e237   \n",
       "4  fd7c9f29-c04e-438a-9512-9a799bc0d7e1  4b12b8f1-9274-499a-91a2-2e4a6371a8ad   \n",
       "\n",
       "   quantity  \n",
       "0         2  \n",
       "1         1  \n",
       "2         3  \n",
       "3         1  \n",
       "4         2  "
      ]
     },
     "execution_count": 6,
     "metadata": {},
     "output_type": "execute_result"
    }
   ],
   "source": [
    "df = pd.read_parquet(f\"s3://lakehouse/Item\",\n",
    "                    storage_options={\n",
    "                        \"key\": MINIO_ACCESS_KEY,\n",
    "                        \"secret\": MINIO_SECRET_KEY,\n",
    "                        \"client_kwargs\": {\"endpoint_url\": \"http://localhost:9000/\"}\n",
    "                    }).drop(['year', 'month', 'day'], axis=1)\n",
    "\n",
    "df.head()"
   ]
  },
  {
   "cell_type": "code",
   "execution_count": 7,
   "metadata": {},
   "outputs": [
    {
     "name": "stdout",
     "output_type": "stream",
     "text": [
      "Connecting\n",
      "All good, Connection successful!\n"
     ]
    }
   ],
   "source": [
    "def connect():\n",
    "    conn = None\n",
    "    try:\n",
    "        print('Connecting')\n",
    "        conn = psycopg2.connect(dbname=DATABASE, user=USER_NAME, password=PASSWORD, host=HOST, port=PORT)\n",
    "    except (Exception, psycopg2.DatabaseError) as error:\n",
    "        print(error)\n",
    "        sys.exit(1)\n",
    "    print('All good, Connection successful!')\n",
    "    return conn\n",
    "    \n",
    "# Create connection\n",
    "conn = connect()\n",
    "\n",
    "# Store table in pandas dataframe\n",
    "def sql_to_dataframe(conn, query, columns):\n",
    "    cur = conn.cursor()\n",
    "    try:\n",
    "        cur.execute(query)\n",
    "    except (Exception, psycopg2.DatabaseError) as error:\n",
    "        print(f\"Error: {error}\" )\n",
    "        cur.close()\n",
    "        return 1\n",
    "    tuple_list = cur.fetchall()\n",
    "    cur.close()\n",
    "    df = pd.DataFrame(tuple_list, columns=columns)\n",
    "    return df"
   ]
  },
  {
   "cell_type": "code",
   "execution_count": null,
   "metadata": {},
   "outputs": [],
   "source": [
    "columns = [\"item_id\", \"product_id\", \"quantity\"]\n",
    "query = 'SELECT * FROM public.\"Item\" WHERE stt > {stt}'.format(stt=stt)\n",
    "df = sql_to_dataframe(conn, query=query, columns=columns)"
   ]
  },
  {
   "cell_type": "code",
   "execution_count": 47,
   "metadata": {},
   "outputs": [],
   "source": [
    "import cv2 \n",
    "import requests\n",
    "import json\n",
    "from PIL import Image\n",
    "from io import BytesIO\n"
   ]
  },
  {
   "cell_type": "code",
   "execution_count": 37,
   "metadata": {},
   "outputs": [],
   "source": [
    "res = requests.get('https://lakehouse-b871d5ac2bac.herokuapp.com/paper-notes')\n",
    "response = json.loads(res.text)"
   ]
  },
  {
   "cell_type": "code",
   "execution_count": 40,
   "metadata": {},
   "outputs": [
    {
     "data": {
      "text/plain": [
       "list"
      ]
     },
     "execution_count": 40,
     "metadata": {},
     "output_type": "execute_result"
    }
   ],
   "source": [
    "type(response['image_urls'])"
   ]
  },
  {
   "cell_type": "code",
   "execution_count": 49,
   "metadata": {},
   "outputs": [],
   "source": [
    "res = requests.get(response['image_urls'][0])\n",
    "if res.status_code == 200:\n",
    "    # Read the image data from the response content\n",
    "    image_data = res.content\n",
    "    \n",
    "    # Create a PIL Image object from the image data\n",
    "    img = Image.open(BytesIO(image_data))\n",
    "    \n",
    "    # Display the image (optional)\n",
    "    img.show()\n",
    "else:\n",
    "    # If the request was not successful, print an error message\n",
    "    print(\"Failed to fetch the image. Status code:\", res.status_code)"
   ]
  },
  {
   "cell_type": "code",
   "execution_count": 50,
   "metadata": {},
   "outputs": [
    {
     "data": {
      "text/plain": [
       "PIL.PngImagePlugin.PngImageFile"
      ]
     },
     "execution_count": 50,
     "metadata": {},
     "output_type": "execute_result"
    }
   ],
   "source": [
    "type(img)"
   ]
  },
  {
   "cell_type": "code",
   "execution_count": 54,
   "metadata": {},
   "outputs": [
    {
     "data": {
      "text/plain": [
       "<_io.BytesIO at 0x18cdfd20bd0>"
      ]
     },
     "execution_count": 54,
     "metadata": {},
     "output_type": "execute_result"
    }
   ],
   "source": []
  },
  {
   "cell_type": "code",
   "execution_count": null,
   "metadata": {},
   "outputs": [],
   "source": []
  }
 ],
 "metadata": {
  "kernelspec": {
   "display_name": "Python 3",
   "language": "python",
   "name": "python3"
  },
  "language_info": {
   "codemirror_mode": {
    "name": "ipython",
    "version": 3
   },
   "file_extension": ".py",
   "mimetype": "text/x-python",
   "name": "python",
   "nbconvert_exporter": "python",
   "pygments_lexer": "ipython3",
   "version": "3.10.0"
  }
 },
 "nbformat": 4,
 "nbformat_minor": 2
}
